{
 "cells": [
  {
   "cell_type": "markdown",
   "metadata": {},
   "source": [
    "# Codage de Freeman"
   ]
  },
  {
   "cell_type": "code",
   "execution_count": 1,
   "metadata": {},
   "outputs": [],
   "source": [
    "import numpy as np # linear algebra\n",
    "import pandas as pd # data processing, CSV file I/O (e.g. pd.read_csv)\n",
    "import cv2\n",
    "from math import sqrt\n",
    "from matplotlib import pyplot as plt\n",
    "from itertools import chain\n",
    "import glob\n",
    "import os"
   ]
  },
  {
   "cell_type": "code",
   "execution_count": 2,
   "metadata": {},
   "outputs": [],
   "source": [
    "# Crop image and reshape\n",
    "allImg = []\n",
    "for e in [r'imageFiltered/*.jpg']:    \n",
    "    for filepath in glob.iglob(e): \n",
    "        \n",
    "        filename= filepath.split(os.path.sep)[-1]\n",
    "        img = cv2.imread('imageFiltered/'+filename)\n",
    "        img = img[10:700,100:1195]\n",
    "        img = cv2.cvtColor(img, cv2.COLOR_BGR2GRAY)\n",
    "        img = cv2.threshold(img,245,255,cv2.THRESH_BINARY)\n",
    "        img = img[1]\n",
    "        allImg.append(img)"
   ]
  },
  {
   "cell_type": "code",
   "execution_count": 3,
   "metadata": {},
   "outputs": [
    {
     "name": "stdout",
     "output_type": "stream",
     "text": [
      "Changing image...\n"
     ]
    }
   ],
   "source": [
    "# Change Data cell\n",
    "n_aImg = []\n",
    "print(\"Changing image...\")\n",
    "for k in range(len(allImg)):\n",
    "    img = allImg[k]\n",
    "    for i in range(img.shape[0]):\n",
    "        for j in range(img.shape[1]):\n",
    "            if img[i][j] == 255:\n",
    "                img[i][j]=0\n",
    "            elif img[i][j] == 0:\n",
    "                img[i][j]=255\n",
    "    n_aImg.append(img)"
   ]
  },
  {
   "cell_type": "code",
   "execution_count": 4,
   "metadata": {},
   "outputs": [
    {
     "name": "stdout",
     "output_type": "stream",
     "text": [
      "Number of image loaded : 10...\n"
     ]
    }
   ],
   "source": [
    "print(\"Number of image loaded : \"+str(len(n_aImg))+\"...\")"
   ]
  },
  {
   "cell_type": "code",
   "execution_count": 5,
   "metadata": {},
   "outputs": [
    {
     "name": "stdout",
     "output_type": "stream",
     "text": [
      "(60, 568) 255\n",
      "(82, 813) 255\n",
      "(78, 764) 255\n",
      "(49, 588) 255\n",
      "(24, 636) 255\n",
      "(0, 723) 255\n",
      "(15, 695) 255\n",
      "(0, 797) 255\n",
      "(0, 852) 255\n",
      "(16, 765) 255\n"
     ]
    }
   ],
   "source": [
    "## Discover the first point of all images\n",
    "a_sp = []\n",
    "for k in range(len(n_aImg)):\n",
    "    img = n_aImg[k]\n",
    "    for i, row in enumerate(img):\n",
    "        for j, value in enumerate(row):\n",
    "            if value == 255:\n",
    "                start_point = (i, j)\n",
    "                print(start_point, value)\n",
    "                a_sp.append(start_point)\n",
    "                break\n",
    "        else:\n",
    "            continue\n",
    "        break\n",
    "#image = img"
   ]
  },
  {
   "cell_type": "markdown",
   "metadata": {},
   "source": [
    "### Algorithme codage de Freeman :"
   ]
  },
  {
   "cell_type": "code",
   "execution_count": 6,
   "metadata": {},
   "outputs": [],
   "source": [
    "directions = [ 0,  1,  2,\n",
    "               7,      3,\n",
    "               6,  5,  4]\n",
    "dir2idx = dict(zip(directions, range(len(directions))))\n",
    "\n",
    "change_j =   [-1,  0,  1, # x or columns\n",
    "              -1,      1,\n",
    "              -1,  0,  1]\n",
    "\n",
    "change_i =   [-1, -1, -1, # y or rows\n",
    "               0,      0,\n",
    "               1,  1,  1]\n",
    "\n",
    "a_border = []\n",
    "a_chain = []\n",
    "\n",
    "for i in range(len(a_sp)):\n",
    "    border = []\n",
    "    chain = []\n",
    "    curr_point = a_sp[i]\n",
    "    for direction in directions:\n",
    "        idx = dir2idx[direction]\n",
    "        new_point = (a_sp[i][0]+change_i[idx], a_sp[i][1]+change_j[idx])\n",
    "        if n_aImg[i][new_point] != 0: # if is ROI\n",
    "            border.append(new_point)\n",
    "            chain.append(direction)\n",
    "            curr_point = new_point\n",
    "            break\n",
    "\n",
    "    count = 0\n",
    "    while curr_point != a_sp[i]:\n",
    "        #figure direction to start search\n",
    "        b_direction = (direction + 5) % 8 \n",
    "        dirs_1 = range(b_direction, 8)\n",
    "        dirs_2 = range(0, b_direction)\n",
    "        dirs = []\n",
    "        dirs.extend(dirs_1)\n",
    "        dirs.extend(dirs_2)\n",
    "        for direction in dirs:\n",
    "            idx = dir2idx[direction]\n",
    "            new_point = (curr_point[0]+change_i[idx], curr_point[1]+change_j[idx])\n",
    "            if n_aImg[i][new_point] != 0: # if is ROI\n",
    "                border.append(new_point)\n",
    "                chain.append(direction)\n",
    "                curr_point = new_point\n",
    "                break\n",
    "        count += 1\n",
    "    a_border.append(border)\n",
    "    a_chain.append(chain)"
   ]
  },
  {
   "cell_type": "code",
   "execution_count": 7,
   "metadata": {},
   "outputs": [
    {
     "name": "stdout",
     "output_type": "stream",
     "text": [
      "1364\n"
     ]
    }
   ],
   "source": [
    "print(count)\n",
    "#print(a_chain)"
   ]
  },
  {
   "cell_type": "markdown",
   "metadata": {},
   "source": [
    "# On verifie que les contours marchent\n",
    "for i in range(len(a_sp)):\n",
    "    plt.imshow(n_aImg[i], cmap='Greys')\n",
    "    plt.plot([i[1] for i in a_border[i]], [i[0] for i in a_border[i]])\n",
    "    plt.show()"
   ]
  },
  {
   "cell_type": "markdown",
   "metadata": {},
   "source": [
    "### On centre et reduit les variables"
   ]
  },
  {
   "cell_type": "code",
   "execution_count": 8,
   "metadata": {},
   "outputs": [],
   "source": [
    "import numpy as np \n",
    "for i in range(len(a_sp)):\n",
    "    my=np.mean([i[1] for i in a_border[i]])\n",
    "    mx=np.mean([i[0] for i in a_border[i]])\n",
    "\n",
    "    for j in range(len(a_border[i])):\n",
    "        a_border[i][j] = list(a_border[i][j])\n",
    "        a_border[i][j][1]=(a_border[i][j][1]-my)/10\n",
    "        a_border[i][j][0]=(a_border[i][j][0]-mx)/10"
   ]
  },
  {
   "cell_type": "code",
   "execution_count": 9,
   "metadata": {},
   "outputs": [
    {
     "data": {
      "text/plain": [
       "<matplotlib.collections.PathCollection at 0x1bf66655688>"
      ]
     },
     "execution_count": 9,
     "metadata": {},
     "output_type": "execute_result"
    },
    {
     "data": {
      "image/png": "[encoded data removed]",
      "text/plain": [
       "<Figure size 432x288 with 1 Axes>"
      ]
     },
     "metadata": {
      "needs_background": "light"
     },
     "output_type": "display_data"
    }
   ],
   "source": [
    "idx = 0\n",
    "plt.imshow(n_aImg[idx], cmap='Greys')\n",
    "plt.plot([i[1] for i in a_border[idx]], [i[0] for i in a_border[idx]])\n",
    "plt.scatter(a_border[idx][0][1],a_border[idx][0][0])\n",
    "#plt.scatter(a_border[idx][len(a_border[idx])-1][1],a_border[idx][len(a_border[idx])-1][0])"
   ]
  },
  {
   "cell_type": "markdown",
   "metadata": {},
   "source": [
    "len(border)"
   ]
  },
  {
   "cell_type": "markdown",
   "metadata": {},
   "source": [
    "### Check for duplicates"
   ]
  },
  {
   "cell_type": "markdown",
   "metadata": {},
   "source": [
    "seen = []\n",
    "uniq = []\n",
    "for x in border:\n",
    "    if x not in seen:\n",
    "        uniq.append(x)\n",
    "        seen.append(x)\n",
    "if len(uniq) == len(seen) == len(border):\n",
    "    print(\"no duplicates\")\n",
    "else :\n",
    "    print(\"duplicates\")"
   ]
  },
  {
   "cell_type": "markdown",
   "metadata": {},
   "source": [
    "### Reduce chain size"
   ]
  },
  {
   "cell_type": "code",
   "execution_count": 10,
   "metadata": {},
   "outputs": [],
   "source": [
    "# retrieve number of sequence and index of each number in an array"
   ]
  },
  {
   "cell_type": "code",
   "execution_count": 11,
   "metadata": {},
   "outputs": [],
   "source": [
    "a_index = []\n",
    "a_count = []\n",
    "for i in range(len(a_chain)):\n",
    "    tchain = a_chain[i]\n",
    "    tchain.append(999)\n",
    "    tmp1 = tchain[0]\n",
    "    cpt = 0\n",
    "    index = []\n",
    "    count = []\n",
    "    for j in range(len(tchain)):\n",
    "        cpt+=1\n",
    "        if tchain[j] is not tmp1 :\n",
    "            index.append(j-1)\n",
    "            count.append(cpt-1)\n",
    "            cpt = 1\n",
    "        tmp1 = tchain[j]\n",
    "    tchain.pop(len(tchain)-1);\n",
    "    a_index.append(index)\n",
    "    a_count.append(count)"
   ]
  },
  {
   "cell_type": "code",
   "execution_count": 12,
   "metadata": {},
   "outputs": [
    {
     "name": "stdout",
     "output_type": "stream",
     "text": [
      "10\n"
     ]
    }
   ],
   "source": [
    "print(len(a_index))"
   ]
  },
  {
   "cell_type": "code",
   "execution_count": 13,
   "metadata": {},
   "outputs": [
    {
     "name": "stdout",
     "output_type": "stream",
     "text": [
      "10\n"
     ]
    }
   ],
   "source": [
    "print(len(a_count))"
   ]
  },
  {
   "cell_type": "code",
   "execution_count": 14,
   "metadata": {},
   "outputs": [],
   "source": [
    "a_start = []\n",
    "for k in range(len(a_count)):\n",
    "    start = []\n",
    "    zip_object = zip(a_index[k], a_count[k])\n",
    "    for list1_i, list2_i in zip_object:\n",
    "        start.append(list1_i-list2_i+1)\n",
    "    a_start.append(start)"
   ]
  },
  {
   "cell_type": "code",
   "execution_count": 15,
   "metadata": {},
   "outputs": [
    {
     "name": "stdout",
     "output_type": "stream",
     "text": [
      "559\n"
     ]
    }
   ],
   "source": [
    "print(len(a_start[1]))"
   ]
  },
  {
   "cell_type": "code",
   "execution_count": 16,
   "metadata": {},
   "outputs": [
    {
     "name": "stdout",
     "output_type": "stream",
     "text": [
      "376\n"
     ]
    }
   ],
   "source": [
    "print(len(a_start[0]))"
   ]
  },
  {
   "cell_type": "code",
   "execution_count": 17,
   "metadata": {},
   "outputs": [],
   "source": [
    "for j in range(len(a_count)):\n",
    "    for i in range(len(a_count)):\n",
    "        a_count[j][i] = a_count[j][i]-1"
   ]
  },
  {
   "cell_type": "code",
   "execution_count": 18,
   "metadata": {},
   "outputs": [
    {
     "name": "stdout",
     "output_type": "stream",
     "text": [
      "10\n"
     ]
    }
   ],
   "source": [
    "print(len(a_count))"
   ]
  },
  {
   "cell_type": "code",
   "execution_count": 19,
   "metadata": {},
   "outputs": [],
   "source": [
    "a_end = []\n",
    "for j in range(len(a_start)):\n",
    "    end = []\n",
    "    for i in range(len(a_start[j])):\n",
    "        end.append(a_start[j][i]+a_count[j][i])\n",
    "    a_end.append(end)"
   ]
  },
  {
   "cell_type": "code",
   "execution_count": 20,
   "metadata": {},
   "outputs": [
    {
     "name": "stdout",
     "output_type": "stream",
     "text": [
      "10\n"
     ]
    }
   ],
   "source": [
    "print(len(a_end))"
   ]
  },
  {
   "cell_type": "code",
   "execution_count": 21,
   "metadata": {},
   "outputs": [],
   "source": [
    "# essential points :"
   ]
  },
  {
   "cell_type": "code",
   "execution_count": 22,
   "metadata": {},
   "outputs": [],
   "source": [
    "a_fullp = []\n",
    "for j in range(len(a_start)):\n",
    "    fullp = []\n",
    "    for i in range(len(a_start[j])):\n",
    "        fullp.append(a_start[j][i])\n",
    "        fullp.append(a_end[j][i])\n",
    "    a_fullp.append(fullp)"
   ]
  },
  {
   "cell_type": "code",
   "execution_count": 23,
   "metadata": {},
   "outputs": [],
   "source": [
    "#print(a_fullp)"
   ]
  },
  {
   "cell_type": "code",
   "execution_count": 24,
   "metadata": {},
   "outputs": [],
   "source": [
    "def remove_duplicate(array):\n",
    "    tmp = -999\n",
    "    for i in range(len(array)):\n",
    "        if array[i] == tmp :\n",
    "            array.pop(i)\n",
    "            break\n",
    "        tmp = array[i]"
   ]
  },
  {
   "cell_type": "code",
   "execution_count": 25,
   "metadata": {},
   "outputs": [],
   "source": [
    "for j in range(len(a_fullp)):\n",
    "    for i in range(500):\n",
    "        remove_duplicate(a_fullp[j])"
   ]
  },
  {
   "cell_type": "code",
   "execution_count": 26,
   "metadata": {},
   "outputs": [
    {
     "data": {
      "text/plain": [
       "382"
      ]
     },
     "execution_count": 26,
     "metadata": {},
     "output_type": "execute_result"
    }
   ],
   "source": [
    "len(a_fullp[0])"
   ]
  },
  {
   "cell_type": "code",
   "execution_count": 27,
   "metadata": {},
   "outputs": [],
   "source": [
    "# Add selectionned points (those inside fullp)\n",
    "a_points = []\n",
    "for j in range(len(a_border)):\n",
    "    points = []\n",
    "    for i in range(len(a_border[j])):\n",
    "        if i in a_fullp[j]:\n",
    "            points.append(a_border[j][i])\n",
    "    a_points.append(points)\n",
    "# separate coordinates\n"
   ]
  },
  {
   "cell_type": "code",
   "execution_count": 28,
   "metadata": {},
   "outputs": [
    {
     "data": {
      "text/plain": [
       "[-24.06131868131868, 10.936849816849815]"
      ]
     },
     "execution_count": 28,
     "metadata": {},
     "output_type": "execute_result"
    }
   ],
   "source": [
    "a_points[9][0]"
   ]
  },
  {
   "cell_type": "code",
   "execution_count": 29,
   "metadata": {},
   "outputs": [
    {
     "data": {
      "text/plain": [
       "-24.06131868131868"
      ]
     },
     "execution_count": 29,
     "metadata": {},
     "output_type": "execute_result"
    }
   ],
   "source": [
    "points[0][0]"
   ]
  },
  {
   "cell_type": "code",
   "execution_count": 30,
   "metadata": {},
   "outputs": [
    {
     "data": {
      "text/plain": [
       "<matplotlib.collections.PathCollection at 0x1bf685c6c48>"
      ]
     },
     "execution_count": 30,
     "metadata": {},
     "output_type": "execute_result"
    },
    {
     "data": {
      "image/png": "[encoded data removed]",
      "text/plain": [
       "<Figure size 432x288 with 1 Axes>"
      ]
     },
     "metadata": {
      "needs_background": "light"
     },
     "output_type": "display_data"
    }
   ],
   "source": [
    "idx = 0\n",
    "plt.plot([i[1] for i in a_points[idx]], [i[0] for i in a_points[idx]])\n",
    "plt.scatter([a_points[idx][0][1]], [a_points[idx][1][0]])"
   ]
  },
  {
   "cell_type": "code",
   "execution_count": 31,
   "metadata": {},
   "outputs": [
    {
     "data": {
      "text/plain": [
       "635"
      ]
     },
     "execution_count": 31,
     "metadata": {},
     "output_type": "execute_result"
    }
   ],
   "source": [
    "len(points)"
   ]
  },
  {
   "cell_type": "code",
   "execution_count": 32,
   "metadata": {},
   "outputs": [],
   "source": [
    "a_x = []\n",
    "for i in range(len(a_border)):\n",
    "    x = [j[1] for j in a_points[i]]\n",
    "    a_x.append(x)"
   ]
  },
  {
   "cell_type": "code",
   "execution_count": 33,
   "metadata": {},
   "outputs": [],
   "source": [
    "a_y = []\n",
    "for i in range(len(a_border)):\n",
    "    y = [j[0] for j in a_points[i]]\n",
    "    a_y.append(y)"
   ]
  },
  {
   "cell_type": "code",
   "execution_count": 34,
   "metadata": {},
   "outputs": [
    {
     "data": {
      "text/plain": [
       "[22.03868131868132, -13.163150183150185]"
      ]
     },
     "execution_count": 34,
     "metadata": {},
     "output_type": "execute_result"
    }
   ],
   "source": [
    "max(points)"
   ]
  },
  {
   "cell_type": "code",
   "execution_count": 35,
   "metadata": {},
   "outputs": [
    {
     "data": {
      "text/plain": [
       "[-24.06131868131868, 10.836849816849815]"
      ]
     },
     "execution_count": 35,
     "metadata": {},
     "output_type": "execute_result"
    }
   ],
   "source": [
    "min(points)"
   ]
  },
  {
   "cell_type": "code",
   "execution_count": 36,
   "metadata": {},
   "outputs": [],
   "source": [
    "# Reduit la taille du dataset"
   ]
  },
  {
   "cell_type": "code",
   "execution_count": 37,
   "metadata": {},
   "outputs": [
    {
     "data": {
      "image/png": "[encoded data removed]",
      "text/plain": [
       "<Figure size 432x288 with 1 Axes>"
      ]
     },
     "metadata": {
      "needs_background": "light"
     },
     "output_type": "display_data"
    },
    {
     "name": "stdout",
     "output_type": "stream",
     "text": [
      "39\n"
     ]
    },
    {
     "data": {
      "image/png": "[encoded data removed]",
      "text/plain": [
       "<Figure size 432x288 with 1 Axes>"
      ]
     },
     "metadata": {
      "needs_background": "light"
     },
     "output_type": "display_data"
    },
    {
     "name": "stdout",
     "output_type": "stream",
     "text": [
      "57\n"
     ]
    },
    {
     "data": {
      "image/png": "[encoded data removed]",
      "text/plain": [
       "<Figure size 432x288 with 1 Axes>"
      ]
     },
     "metadata": {
      "needs_background": "light"
     },
     "output_type": "display_data"
    },
    {
     "name": "stdout",
     "output_type": "stream",
     "text": [
      "53\n"
     ]
    },
    {
     "data": {
      "image/png": "[encoded data removed]",
      "text/plain": [
       "<Figure size 432x288 with 1 Axes>"
      ]
     },
     "metadata": {
      "needs_background": "light"
     },
     "output_type": "display_data"
    },
    {
     "name": "stdout",
     "output_type": "stream",
     "text": [
      "73\n"
     ]
    },
    {
     "data": {
      "image/png": "[encoded data removed]",
      "text/plain": [
       "<Figure size 432x288 with 1 Axes>"
      ]
     },
     "metadata": {
      "needs_background": "light"
     },
     "output_type": "display_data"
    },
    {
     "name": "stdout",
     "output_type": "stream",
     "text": [
      "88\n"
     ]
    },
    {
     "data": {
      "image/png": "[encoded data removed]",
      "text/plain": [
       "<Figure size 432x288 with 1 Axes>"
      ]
     },
     "metadata": {
      "needs_background": "light"
     },
     "output_type": "display_data"
    },
    {
     "name": "stdout",
     "output_type": "stream",
     "text": [
      "36\n"
     ]
    },
    {
     "data": {
      "image/png": "[encoded data removed]",
      "text/plain": [
       "<Figure size 432x288 with 1 Axes>"
      ]
     },
     "metadata": {
      "needs_background": "light"
     },
     "output_type": "display_data"
    },
    {
     "name": "stdout",
     "output_type": "stream",
     "text": [
      "54\n"
     ]
    },
    {
     "data": {
      "image/png": "[encoded data removed]",
      "text/plain": [
       "<Figure size 432x288 with 1 Axes>"
      ]
     },
     "metadata": {
      "needs_background": "light"
     },
     "output_type": "display_data"
    },
    {
     "name": "stdout",
     "output_type": "stream",
     "text": [
      "31\n"
     ]
    },
    {
     "data": {
      "image/png": "[encoded data removed]",
      "text/plain": [
       "<Figure size 432x288 with 1 Axes>"
      ]
     },
     "metadata": {
      "needs_background": "light"
     },
     "output_type": "display_data"
    },
    {
     "name": "stdout",
     "output_type": "stream",
     "text": [
      "24\n"
     ]
    },
    {
     "data": {
      "image/png": "[encoded data removed]",
      "text/plain": [
       "<Figure size 432x288 with 1 Axes>"
      ]
     },
     "metadata": {
      "needs_background": "light"
     },
     "output_type": "display_data"
    },
    {
     "name": "stdout",
     "output_type": "stream",
     "text": [
      "64\n"
     ]
    }
   ],
   "source": [
    "a_nx = []\n",
    "a_ny = []\n",
    "for j in range(len(a_border)):\n",
    "    nX = []\n",
    "    nY = []\n",
    "    for i in range(len(a_x[j])):\n",
    "        if i%10 == 0 :\n",
    "            nX.append(a_x[j][i])\n",
    "            nY.append(a_y[j][i])\n",
    "    plt.scatter(nX,nY)\n",
    "    plt.show()\n",
    "    print(len(nX))\n",
    "    a_nx.append(nX)\n",
    "    a_ny.append(nY)"
   ]
  },
  {
   "cell_type": "code",
   "execution_count": 38,
   "metadata": {},
   "outputs": [],
   "source": [
    "# Convert to STR readable by Arduino"
   ]
  },
  {
   "cell_type": "code",
   "execution_count": 39,
   "metadata": {},
   "outputs": [],
   "source": [
    "def getStrFromPoints(points): \n",
    "    fullA = \"{\"\n",
    "    for i in range(len(points)):\n",
    "        fullA += \"{\"\n",
    "        for j in range(len(points[i])):\n",
    "            fullA += f\"{points[i][j]}\" \n",
    "            if j != len(points[i])-1:\n",
    "                fullA += \",\"\n",
    "        fullA += \"}\"\n",
    "        if i != len(points)-1:\n",
    "            fullA += \",\"\n",
    "    fullA += \"}\"\n",
    "    return fullA"
   ]
  },
  {
   "cell_type": "code",
   "execution_count": 40,
   "metadata": {},
   "outputs": [],
   "source": [
    "x = getStrFromPoints(a_nx)\n",
    "y = getStrFromPoints(a_ny)"
   ]
  }
 ],
 "metadata": {
  "kernelspec": {
   "display_name": "Python 3",
   "language": "python",
   "name": "python3"
  },
  "language_info": {
   "codemirror_mode": {
    "name": "ipython",
    "version": 3
   },
   "file_extension": ".py",
   "mimetype": "text/x-python",
   "name": "python",
   "nbconvert_exporter": "python",
   "pygments_lexer": "ipython3",
   "version": "3.7.6"
  }
 },
 "nbformat": 4,
 "nbformat_minor": 4
}
